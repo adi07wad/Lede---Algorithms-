{
 "cells": [
  {
   "cell_type": "markdown",
   "metadata": {},
   "source": [
    "# [Columbia - Lede Program] - Analysis on Speed tickets for Massechusets\n",
    "\n",
    "\n",
    "Using data on citations for speeding from Massechusets from 2001. This data was originally analyzed by the Boston Globe for their series \"Speed Trap: Who gets a ticket, who gets a break\"\n",
    "\n",
    "Below is a link for their methodology and the original dataset:\n",
    "http://archive.boston.com/globe/metro/packages/tickets/study.pdf\n"
   ]
  },
  {
   "cell_type": "markdown",
   "metadata": {},
   "source": [
    "##Purpose: \n",
    "Explore multivariable regression for a real world problem\n",
    "\n",
    "##Interesting fact about the data:\n",
    "For a brief period of April and May 2001, the state government entered both tickets and warnings from the paper citations. In Massechusets at that time, both were written on the same form, with only a checkbox indicating which it was. A ticket means a fine and a raises your insurance premium. A warning means nothing. \n",
    "\n",
    "##Research question: \n",
    "With similar circumstances, are certain groups of people likely to get tickets or warnings?\n"
   ]
  },
  {
   "cell_type": "code",
   "execution_count": 3,
   "metadata": {},
   "outputs": [],
   "source": [
    "import pandas as pd\n",
    "import numpy as np\n",
    "import matplotlib.pyplot as plt\n",
    "%matplotlib inline"
   ]
  },
  {
   "cell_type": "code",
   "execution_count": 7,
   "metadata": {},
   "outputs": [
    {
     "data": {
      "text/html": [
       "<div>\n",
       "<style scoped>\n",
       "    .dataframe tbody tr th:only-of-type {\n",
       "        vertical-align: middle;\n",
       "    }\n",
       "\n",
       "    .dataframe tbody tr th {\n",
       "        vertical-align: top;\n",
       "    }\n",
       "\n",
       "    .dataframe thead th {\n",
       "        text-align: right;\n",
       "    }\n",
       "</style>\n",
       "<table border=\"1\" class=\"dataframe\">\n",
       "  <thead>\n",
       "    <tr style=\"text-align: right;\">\n",
       "      <th></th>\n",
       "      <th>TYPE</th>\n",
       "      <th>CITATION</th>\n",
       "      <th>DATE</th>\n",
       "      <th>DOW</th>\n",
       "      <th>AGENCY</th>\n",
       "      <th>AGENCY2</th>\n",
       "      <th>AGENCY3</th>\n",
       "      <th>LOCAL</th>\n",
       "      <th>OFFICER</th>\n",
       "      <th>LICSTATE</th>\n",
       "      <th>...</th>\n",
       "      <th>V_YEAR</th>\n",
       "      <th>V_AGE</th>\n",
       "      <th>V_AGEGRP</th>\n",
       "      <th>COLOR</th>\n",
       "      <th>HOMESTATE</th>\n",
       "      <th>HOMETOWN</th>\n",
       "      <th>INTOWN</th>\n",
       "      <th>INSTATE</th>\n",
       "      <th>INTOWN2</th>\n",
       "      <th>INSTATE2</th>\n",
       "    </tr>\n",
       "  </thead>\n",
       "  <tbody>\n",
       "    <tr>\n",
       "      <th>0</th>\n",
       "      <td>T</td>\n",
       "      <td>K0001506</td>\n",
       "      <td>20010411.0</td>\n",
       "      <td>Wednesday</td>\n",
       "      <td>State Police Troop A-4</td>\n",
       "      <td>State Police</td>\n",
       "      <td>S</td>\n",
       "      <td>N</td>\n",
       "      <td>8.247791e+15</td>\n",
       "      <td>MA</td>\n",
       "      <td>...</td>\n",
       "      <td>0.0</td>\n",
       "      <td>NaN</td>\n",
       "      <td>U</td>\n",
       "      <td>NaN</td>\n",
       "      <td>MA</td>\n",
       "      <td>Tewksbury</td>\n",
       "      <td>N</td>\n",
       "      <td>Y</td>\n",
       "      <td>0.0</td>\n",
       "      <td>1.0</td>\n",
       "    </tr>\n",
       "    <tr>\n",
       "      <th>1</th>\n",
       "      <td>T</td>\n",
       "      <td>K0001507</td>\n",
       "      <td>20010417.0</td>\n",
       "      <td>Tuesday</td>\n",
       "      <td>State Police Troop A-4</td>\n",
       "      <td>State Police</td>\n",
       "      <td>S</td>\n",
       "      <td>N</td>\n",
       "      <td>8.247791e+15</td>\n",
       "      <td>MA</td>\n",
       "      <td>...</td>\n",
       "      <td>1988.0</td>\n",
       "      <td>13.0</td>\n",
       "      <td>older</td>\n",
       "      <td>WHITE</td>\n",
       "      <td>MA</td>\n",
       "      <td>Boston</td>\n",
       "      <td>N</td>\n",
       "      <td>Y</td>\n",
       "      <td>0.0</td>\n",
       "      <td>1.0</td>\n",
       "    </tr>\n",
       "    <tr>\n",
       "      <th>2</th>\n",
       "      <td>T</td>\n",
       "      <td>K0001509</td>\n",
       "      <td>20010420.0</td>\n",
       "      <td>Friday</td>\n",
       "      <td>State Police Troop A-4</td>\n",
       "      <td>State Police</td>\n",
       "      <td>S</td>\n",
       "      <td>N</td>\n",
       "      <td>8.247791e+15</td>\n",
       "      <td>NH</td>\n",
       "      <td>...</td>\n",
       "      <td>0.0</td>\n",
       "      <td>NaN</td>\n",
       "      <td>U</td>\n",
       "      <td>NaN</td>\n",
       "      <td>NH</td>\n",
       "      <td>NaN</td>\n",
       "      <td>N</td>\n",
       "      <td>N</td>\n",
       "      <td>0.0</td>\n",
       "      <td>0.0</td>\n",
       "    </tr>\n",
       "  </tbody>\n",
       "</table>\n",
       "<p>3 rows × 57 columns</p>\n",
       "</div>"
      ],
      "text/plain": [
       "  TYPE  CITATION        DATE        DOW                  AGENCY       AGENCY2  \\\n",
       "0    T  K0001506  20010411.0  Wednesday  State Police Troop A-4  State Police   \n",
       "1    T  K0001507  20010417.0    Tuesday  State Police Troop A-4  State Police   \n",
       "2    T  K0001509  20010420.0     Friday  State Police Troop A-4  State Police   \n",
       "\n",
       "  AGENCY3 LOCAL       OFFICER LICSTATE   ...     V_YEAR V_AGE V_AGEGRP  COLOR  \\\n",
       "0       S     N  8.247791e+15       MA   ...        0.0   NaN        U    NaN   \n",
       "1       S     N  8.247791e+15       MA   ...     1988.0  13.0    older  WHITE   \n",
       "2       S     N  8.247791e+15       NH   ...        0.0   NaN        U    NaN   \n",
       "\n",
       "   HOMESTATE   HOMETOWN  INTOWN  INSTATE  INTOWN2 INSTATE2  \n",
       "0         MA  Tewksbury       N        Y      0.0      1.0  \n",
       "1         MA     Boston       N        Y      0.0      1.0  \n",
       "2         NH        NaN       N        N      0.0      0.0  \n",
       "\n",
       "[3 rows x 57 columns]"
      ]
     },
     "execution_count": 7,
     "metadata": {},
     "output_type": "execute_result"
    }
   ],
   "source": [
    "tw_un = pd.read_csv('tickets-warnings.csv')\n",
    "tw_un.head(3)"
   ]
  },
  {
   "cell_type": "markdown",
   "metadata": {},
   "source": [
    "##Selecting certain fields for our research question: subsetting dataset to select only those rows where the description is \"SPEEDING\". Then certain rows selected based on their relevance to the issue (explore methodology to learn other possible features) \n",
    "'DATE', 'TYPE', 'AGENCY3', 'SEX','MINORITY','AGE','MPH','MPHOVER','INTOWN'"
   ]
  },
  {
   "cell_type": "code",
   "execution_count": 8,
   "metadata": {},
   "outputs": [
    {
     "data": {
      "text/html": [
       "<div>\n",
       "<style scoped>\n",
       "    .dataframe tbody tr th:only-of-type {\n",
       "        vertical-align: middle;\n",
       "    }\n",
       "\n",
       "    .dataframe tbody tr th {\n",
       "        vertical-align: top;\n",
       "    }\n",
       "\n",
       "    .dataframe thead th {\n",
       "        text-align: right;\n",
       "    }\n",
       "</style>\n",
       "<table border=\"1\" class=\"dataframe\">\n",
       "  <thead>\n",
       "    <tr style=\"text-align: right;\">\n",
       "      <th></th>\n",
       "      <th>DATE</th>\n",
       "      <th>TYPE</th>\n",
       "      <th>AGENCY3</th>\n",
       "      <th>SEX</th>\n",
       "      <th>MINORITY</th>\n",
       "      <th>AGE</th>\n",
       "      <th>MPH</th>\n",
       "      <th>MPHOVER</th>\n",
       "      <th>INTOWN</th>\n",
       "    </tr>\n",
       "  </thead>\n",
       "  <tbody>\n",
       "    <tr>\n",
       "      <th>0</th>\n",
       "      <td>20010411.0</td>\n",
       "      <td>T</td>\n",
       "      <td>S</td>\n",
       "      <td>M</td>\n",
       "      <td>W</td>\n",
       "      <td>21.0</td>\n",
       "      <td>80.0</td>\n",
       "      <td>15.0</td>\n",
       "      <td>N</td>\n",
       "    </tr>\n",
       "    <tr>\n",
       "      <th>1</th>\n",
       "      <td>20010427.0</td>\n",
       "      <td>T</td>\n",
       "      <td>S</td>\n",
       "      <td>M</td>\n",
       "      <td>W</td>\n",
       "      <td>24.0</td>\n",
       "      <td>85.0</td>\n",
       "      <td>20.0</td>\n",
       "      <td>N</td>\n",
       "    </tr>\n",
       "    <tr>\n",
       "      <th>2</th>\n",
       "      <td>20010502.0</td>\n",
       "      <td>T</td>\n",
       "      <td>S</td>\n",
       "      <td>M</td>\n",
       "      <td>W</td>\n",
       "      <td>37.0</td>\n",
       "      <td>80.0</td>\n",
       "      <td>30.0</td>\n",
       "      <td>N</td>\n",
       "    </tr>\n",
       "    <tr>\n",
       "      <th>3</th>\n",
       "      <td>20010506.0</td>\n",
       "      <td>W</td>\n",
       "      <td>S</td>\n",
       "      <td>M</td>\n",
       "      <td>W</td>\n",
       "      <td>30.0</td>\n",
       "      <td>80.0</td>\n",
       "      <td>15.0</td>\n",
       "      <td>N</td>\n",
       "    </tr>\n",
       "    <tr>\n",
       "      <th>4</th>\n",
       "      <td>20010506.0</td>\n",
       "      <td>W</td>\n",
       "      <td>S</td>\n",
       "      <td>F</td>\n",
       "      <td>M</td>\n",
       "      <td>22.0</td>\n",
       "      <td>75.0</td>\n",
       "      <td>10.0</td>\n",
       "      <td>N</td>\n",
       "    </tr>\n",
       "  </tbody>\n",
       "</table>\n",
       "</div>"
      ],
      "text/plain": [
       "         DATE TYPE AGENCY3 SEX MINORITY   AGE   MPH  MPHOVER INTOWN\n",
       "0  20010411.0    T       S   M        W  21.0  80.0     15.0      N\n",
       "1  20010427.0    T       S   M        W  24.0  85.0     20.0      N\n",
       "2  20010502.0    T       S   M        W  37.0  80.0     30.0      N\n",
       "3  20010506.0    W       S   M        W  30.0  80.0     15.0      N\n",
       "4  20010506.0    W       S   F        M  22.0  75.0     10.0      N"
      ]
     },
     "execution_count": 8,
     "metadata": {},
     "output_type": "execute_result"
    }
   ],
   "source": [
    "tw = tw[tw_un['DESCRIPT']=='SPEEDING'].reset_index(drop=True)\n",
    "tw = tw[['DATE', 'TYPE', 'AGENCY3', 'SEX','MINORITY','AGE','MPH','MPHOVER','INTOWN']]\n",
    "tw.head()"
   ]
  },
  {
   "cell_type": "code",
   "execution_count": 9,
   "metadata": {},
   "outputs": [
    {
     "data": {
      "text/html": [
       "<div>\n",
       "<style scoped>\n",
       "    .dataframe tbody tr th:only-of-type {\n",
       "        vertical-align: middle;\n",
       "    }\n",
       "\n",
       "    .dataframe tbody tr th {\n",
       "        vertical-align: top;\n",
       "    }\n",
       "\n",
       "    .dataframe thead th {\n",
       "        text-align: right;\n",
       "    }\n",
       "</style>\n",
       "<table border=\"1\" class=\"dataframe\">\n",
       "  <thead>\n",
       "    <tr style=\"text-align: right;\">\n",
       "      <th></th>\n",
       "      <th>DATE</th>\n",
       "      <th>TYPE</th>\n",
       "      <th>AGENCY3</th>\n",
       "      <th>SEX</th>\n",
       "      <th>AGE</th>\n",
       "      <th>MPH</th>\n",
       "      <th>MPHOVER</th>\n",
       "      <th>INTOWN</th>\n",
       "    </tr>\n",
       "    <tr>\n",
       "      <th>MINORITY</th>\n",
       "      <th></th>\n",
       "      <th></th>\n",
       "      <th></th>\n",
       "      <th></th>\n",
       "      <th></th>\n",
       "      <th></th>\n",
       "      <th></th>\n",
       "      <th></th>\n",
       "    </tr>\n",
       "  </thead>\n",
       "  <tbody>\n",
       "    <tr>\n",
       "      <th>M</th>\n",
       "      <td>12836</td>\n",
       "      <td>12836</td>\n",
       "      <td>12836</td>\n",
       "      <td>12836</td>\n",
       "      <td>12833</td>\n",
       "      <td>12836</td>\n",
       "      <td>12609</td>\n",
       "      <td>12836</td>\n",
       "    </tr>\n",
       "    <tr>\n",
       "      <th>U</th>\n",
       "      <td>1633</td>\n",
       "      <td>1633</td>\n",
       "      <td>1633</td>\n",
       "      <td>1633</td>\n",
       "      <td>1632</td>\n",
       "      <td>1633</td>\n",
       "      <td>1592</td>\n",
       "      <td>1633</td>\n",
       "    </tr>\n",
       "    <tr>\n",
       "      <th>W</th>\n",
       "      <td>79275</td>\n",
       "      <td>79275</td>\n",
       "      <td>79275</td>\n",
       "      <td>79275</td>\n",
       "      <td>79262</td>\n",
       "      <td>79275</td>\n",
       "      <td>78071</td>\n",
       "      <td>79275</td>\n",
       "    </tr>\n",
       "  </tbody>\n",
       "</table>\n",
       "</div>"
      ],
      "text/plain": [
       "           DATE   TYPE  AGENCY3    SEX    AGE    MPH  MPHOVER  INTOWN\n",
       "MINORITY                                                             \n",
       "M         12836  12836    12836  12836  12833  12836    12609   12836\n",
       "U          1633   1633     1633   1633   1632   1633     1592    1633\n",
       "W         79275  79275    79275  79275  79262  79275    78071   79275"
      ]
     },
     "execution_count": 9,
     "metadata": {},
     "output_type": "execute_result"
    }
   ],
   "source": [
    "tw.groupby('MINORITY').count()  # 12836/(12836+79275)= 0.139, 13.9 % citations given to minorities"
   ]
  },
  {
   "cell_type": "code",
   "execution_count": 10,
   "metadata": {},
   "outputs": [],
   "source": [
    "# drop the unknown race entries\n",
    "tw = tw[tw['MINORITY'] != 'U'].reset_index(drop=True)  # renumber the rows, and don't create a new column"
   ]
  },
  {
   "cell_type": "code",
   "execution_count": 11,
   "metadata": {},
   "outputs": [
    {
     "data": {
      "text/plain": [
       "MINORITY  TYPE\n",
       "M         T        7731\n",
       "          W        5105\n",
       "W         T       40126\n",
       "          W       39149\n",
       "dtype: int64"
      ]
     },
     "execution_count": 11,
     "metadata": {},
     "output_type": "execute_result"
    }
   ],
   "source": [
    "sz = tw.groupby(['MINORITY','TYPE']).size()\n",
    "sz"
   ]
  },
  {
   "cell_type": "code",
   "execution_count": 12,
   "metadata": {},
   "outputs": [
    {
     "data": {
      "text/html": [
       "<div>\n",
       "<style scoped>\n",
       "    .dataframe tbody tr th:only-of-type {\n",
       "        vertical-align: middle;\n",
       "    }\n",
       "\n",
       "    .dataframe tbody tr th {\n",
       "        vertical-align: top;\n",
       "    }\n",
       "\n",
       "    .dataframe thead th {\n",
       "        text-align: right;\n",
       "    }\n",
       "</style>\n",
       "<table border=\"1\" class=\"dataframe\">\n",
       "  <thead>\n",
       "    <tr style=\"text-align: right;\">\n",
       "      <th>TYPE</th>\n",
       "      <th>T</th>\n",
       "      <th>W</th>\n",
       "    </tr>\n",
       "    <tr>\n",
       "      <th>MINORITY</th>\n",
       "      <th></th>\n",
       "      <th></th>\n",
       "    </tr>\n",
       "  </thead>\n",
       "  <tbody>\n",
       "    <tr>\n",
       "      <th>M</th>\n",
       "      <td>7731</td>\n",
       "      <td>5105</td>\n",
       "    </tr>\n",
       "    <tr>\n",
       "      <th>W</th>\n",
       "      <td>40126</td>\n",
       "      <td>39149</td>\n",
       "    </tr>\n",
       "  </tbody>\n",
       "</table>\n",
       "</div>"
      ],
      "text/plain": [
       "TYPE          T      W\n",
       "MINORITY              \n",
       "M          7731   5105\n",
       "W         40126  39149"
      ]
     },
     "execution_count": 12,
     "metadata": {},
     "output_type": "execute_result"
    }
   ],
   "source": [
    "pd.crosstab(tw.MINORITY,tw.TYPE)"
   ]
  },
  {
   "cell_type": "code",
   "execution_count": 13,
   "metadata": {},
   "outputs": [
    {
     "data": {
      "text/plain": [
       "<matplotlib.axes._subplots.AxesSubplot at 0x20b3889ab70>"
      ]
     },
     "execution_count": 13,
     "metadata": {},
     "output_type": "execute_result"
    },
    {
     "data": {
      "image/png": "[encoded data removed]",
      "text/plain": [
       "<matplotlib.figure.Figure at 0x20b338b96a0>"
      ]
     },
     "metadata": {},
     "output_type": "display_data"
    }
   ],
   "source": [
    "pd.crosstab(tw.MINORITY,tw.TYPE).plot(kind='bar')"
   ]
  },
  {
   "cell_type": "code",
   "execution_count": 14,
   "metadata": {},
   "outputs": [
    {
     "data": {
      "text/plain": [
       "0.6022904331567467"
      ]
     },
     "execution_count": 14,
     "metadata": {},
     "output_type": "execute_result"
    }
   ],
   "source": [
    "# percent of minority citations which were tickets\n",
    "sz['M']['T'] / sum(sz['M'])"
   ]
  },
  {
   "cell_type": "code",
   "execution_count": 15,
   "metadata": {},
   "outputs": [
    {
     "data": {
      "text/plain": [
       "0.5061620939766636"
      ]
     },
     "execution_count": 15,
     "metadata": {},
     "output_type": "execute_result"
    }
   ],
   "source": [
    "# percent of non-minority citations which were tickets\n",
    "sz['W']['T'] / sum(sz['W'])"
   ]
  },
  {
   "cell_type": "code",
   "execution_count": 16,
   "metadata": {},
   "outputs": [
    {
     "data": {
      "text/plain": [
       "<matplotlib.axes._subplots.AxesSubplot at 0x20b3846bcf8>"
      ]
     },
     "execution_count": 16,
     "metadata": {},
     "output_type": "execute_result"
    },
    {
     "data": {
      "image/png": "[encoded data removed]",
      "text/plain": [
       "<matplotlib.figure.Figure at 0x20b3846b4e0>"
      ]
     },
     "metadata": {},
     "output_type": "display_data"
    }
   ],
   "source": [
    "pd.DataFrame([sz['M']['T'] / sum(sz['M']), sz['W']['T'] / sum(sz['W'])], index=['Minority','White']).plot(kind='bar')"
   ]
  },
  {
   "cell_type": "markdown",
   "metadata": {},
   "source": [
    " checking speed limit and speed"
   ]
  },
  {
   "cell_type": "code",
   "execution_count": 17,
   "metadata": {},
   "outputs": [
    {
     "data": {
      "text/plain": [
       "<matplotlib.axes._subplots.AxesSubplot at 0x20b384c1dd8>"
      ]
     },
     "execution_count": 17,
     "metadata": {},
     "output_type": "execute_result"
    },
    {
     "data": {
      "image/png": "[encoded data removed]",
      "text/plain": [
       "<matplotlib.figure.Figure at 0x20b38481668>"
      ]
     },
     "metadata": {},
     "output_type": "display_data"
    }
   ],
   "source": [
    "tw['MPHOVER'].hist()"
   ]
  },
  {
   "cell_type": "code",
   "execution_count": null,
   "metadata": {},
   "outputs": [],
   "source": [
    "tw['MPH'].hist()"
   ]
  },
  {
   "cell_type": "markdown",
   "metadata": {},
   "source": [
    "checking speed over limit for both white and minority categories"
   ]
  },
  {
   "cell_type": "code",
   "execution_count": 22,
   "metadata": {},
   "outputs": [
    {
     "data": {
      "image/png": "[encoded data removed]",
      "text/plain": [
       "<matplotlib.figure.Figure at 0x20b385ddfd0>"
      ]
     },
     "metadata": {},
     "output_type": "display_data"
    }
   ],
   "source": [
    "w_over = tw[tw['MINORITY']=='W']['MPHOVER'].dropna()  # need dropna because some rows don't record speed\n",
    "m_over = tw[tw['MINORITY']=='M']['MPHOVER'].dropna()\n",
    "\n",
    "bins = np.linspace(0, 100, 20)\n",
    "plt.hist(w_over,bins,alpha=0.5, color='red', label='White')  # Red for White category \n",
    "plt.hist(m_over,bins,alpha=0.5, color='blue', label='Blue') # Blue for Minority category\n",
    "plt.show()"
   ]
  },
  {
   "cell_type": "markdown",
   "metadata": {},
   "source": [
    " But point to keep in mind here is that the scales are not the same! need to normalize and then compare"
   ]
  },
  {
   "cell_type": "code",
   "execution_count": 23,
   "metadata": {},
   "outputs": [
    {
     "data": {
      "text/plain": [
       "(array([2.20001586e-03, 4.55674518e-02, 6.66936315e-02, 5.09318741e-02,\n",
       "        1.58973749e-02, 5.50003965e-03, 2.03426124e-03, 6.78087081e-04,\n",
       "        3.01372036e-04, 9.04116108e-05, 4.52058054e-05, 3.01372036e-05,\n",
       "        0.00000000e+00, 1.50686018e-05, 1.50686018e-05, 0.00000000e+00,\n",
       "        0.00000000e+00, 0.00000000e+00, 0.00000000e+00]),\n",
       " array([  0.        ,   5.26315789,  10.52631579,  15.78947368,\n",
       "         21.05263158,  26.31578947,  31.57894737,  36.84210526,\n",
       "         42.10526316,  47.36842105,  52.63157895,  57.89473684,\n",
       "         63.15789474,  68.42105263,  73.68421053,  78.94736842,\n",
       "         84.21052632,  89.47368421,  94.73684211, 100.        ]),\n",
       " <a list of 19 Patch objects>)"
      ]
     },
     "execution_count": 23,
     "metadata": {},
     "output_type": "execute_result"
    },
    {
     "data": {
      "image/png": "[encoded data removed]",
      "text/plain": [
       "<matplotlib.figure.Figure at 0x20b38520a90>"
      ]
     },
     "metadata": {},
     "output_type": "display_data"
    }
   ],
   "source": [
    "plt.hist(w_over,bins,alpha=0.5,density=True)\n",
    "plt.hist(m_over,bins,alpha=0.5,density=True)\n"
   ]
  },
  {
   "cell_type": "code",
   "execution_count": null,
   "metadata": {},
   "outputs": [],
   "source": []
  },
  {
   "cell_type": "code",
   "execution_count": 24,
   "metadata": {},
   "outputs": [
    {
     "data": {
      "text/plain": [
       "15.066798170895723"
      ]
     },
     "execution_count": 24,
     "metadata": {},
     "output_type": "execute_result"
    }
   ],
   "source": [
    "w_over.mean()"
   ]
  },
  {
   "cell_type": "code",
   "execution_count": 25,
   "metadata": {},
   "outputs": [
    {
     "data": {
      "text/plain": [
       "15.575303354746609"
      ]
     },
     "execution_count": 25,
     "metadata": {},
     "output_type": "execute_result"
    }
   ],
   "source": [
    "m_over.mean()"
   ]
  },
  {
   "cell_type": "code",
   "execution_count": 26,
   "metadata": {},
   "outputs": [],
   "source": [
    "def comparehist(colname):\n",
    "    w = tw[tw['MINORITY']=='W'][colname].dropna()\n",
    "    m = tw[tw['MINORITY']=='M'][colname].dropna()\n",
    "    \n",
    "    if tw[colname].dtype == np.float64:\n",
    "        # it's numeric, plot a histogram\n",
    "        bins = np.linspace(0, 100, 20)\n",
    "        plt.hist(w,bins,alpha=0.5,density=True)\n",
    "        plt.hist(m,bins,alpha=0.5,density=True)\n",
    "    else:\n",
    "        # if not numerican, assume it's categorical and plot a bar chart of value counts normalized to percentages\n",
    "        wc = w.value_counts()\n",
    "        wc /= sum(wc)\n",
    "        plt.bar(wc.index, wc, alpha=0.5)\n",
    "        mc = m.value_counts()\n",
    "        mc /= sum(mc)\n",
    "        plt.bar(mc.index, mc, alpha=0.5)\n",
    "        \n",
    "    plt.title(colname)\n",
    "    plt.show()\n"
   ]
  },
  {
   "cell_type": "code",
   "execution_count": 27,
   "metadata": {},
   "outputs": [
    {
     "data": {
      "image/png": "[encoded data removed]",
      "text/plain": [
       "<matplotlib.figure.Figure at 0x20b395d4da0>"
      ]
     },
     "metadata": {},
     "output_type": "display_data"
    },
    {
     "data": {
      "image/png": "[encoded data removed]",
      "text/plain": [
       "<matplotlib.figure.Figure at 0x20b398c5b70>"
      ]
     },
     "metadata": {},
     "output_type": "display_data"
    },
    {
     "data": {
      "image/png": "[encoded data removed]",
      "text/plain": [
       "<matplotlib.figure.Figure at 0x20b3e94e390>"
      ]
     },
     "metadata": {},
     "output_type": "display_data"
    },
    {
     "data": {
      "image/png": "[encoded data removed]",
      "text/plain": [
       "<matplotlib.figure.Figure at 0x20b354cf860>"
      ]
     },
     "metadata": {},
     "output_type": "display_data"
    },
    {
     "data": {
      "image/png": "[encoded data removed]",
      "text/plain": [
       "<matplotlib.figure.Figure at 0x20b3f31e4e0>"
      ]
     },
     "metadata": {},
     "output_type": "display_data"
    },
    {
     "data": {
      "image/png": "[encoded data removed]",
      "text/plain": [
       "<matplotlib.figure.Figure at 0x20b3f2e9908>"
      ]
     },
     "metadata": {},
     "output_type": "display_data"
    }
   ],
   "source": [
    "comparehist('AGE')\n",
    "comparehist('SEX')\n",
    "comparehist('MPH')\n",
    "comparehist('MPHOVER')\n",
    "comparehist('AGENCY3')\n",
    "comparehist('INTOWN')"
   ]
  },
  {
   "cell_type": "markdown",
   "metadata": {},
   "source": [
    "## Inferences from graphs\n",
    "- The minority drivers in this sample have more people in their 20s, skew male\n",
    "- They are going slightly faster when they're pulled over\n",
    "- Are less likely to be stopped by local police\n",
    "- More likely to be stopped by Boston police\n",
    "- Tend to be out of town more often\n",
    "\n",
    "Any or all of these effects could account for the difference in ticketing rates. \n",
    "There could even be interactions here: suppose Boston police are harder on people who drive more than 10 mph over the limit. \n",
    "These minority drivers are both more commonly in Boston and going faster on average."
   ]
  },
  {
   "cell_type": "markdown",
   "metadata": {},
   "source": [
    "## Enter logistic regression\n",
    "Use regression to try to analyze the relationships between the variables and whether someone gets a ticket\n",
    "Using this to answer a Yes/No question on whether they got a ticket or not?"
   ]
  },
  {
   "cell_type": "code",
   "execution_count": 28,
   "metadata": {},
   "outputs": [],
   "source": [
    "from sklearn.linear_model import LinearRegression,LogisticRegression\n"
   ]
  },
  {
   "cell_type": "code",
   "execution_count": 30,
   "metadata": {},
   "outputs": [],
   "source": [
    "# add a column that is 1 if they got a ticket (not a warning)\n",
    "tw['BUSTED'] = tw['TYPE'].replace({'W':0, 'T':1})\n",
    "\n",
    "# Remove rows where MPH is unknown\n",
    "tw = tw[~tw['MPHOVER'].isnull()].reset_index()"
   ]
  },
  {
   "cell_type": "code",
   "execution_count": 31,
   "metadata": {},
   "outputs": [],
   "source": [
    "# sort by MPHOVER (makes the plotting below simpler)\n",
    "tw = tw.sort_values(by='MPHOVER')"
   ]
  },
  {
   "cell_type": "code",
   "execution_count": 32,
   "metadata": {},
   "outputs": [
    {
     "data": {
      "text/plain": [
       "<matplotlib.axes._subplots.AxesSubplot at 0x20b3fd7f4e0>"
      ]
     },
     "execution_count": 32,
     "metadata": {},
     "output_type": "execute_result"
    },
    {
     "data": {
      "image/png": "[encoded data removed]",
      "text/plain": [
       "<matplotlib.figure.Figure at 0x20b3e918198>"
      ]
     },
     "metadata": {},
     "output_type": "display_data"
    }
   ],
   "source": [
    "x = tw[['MPHOVER']].values\n",
    "y = tw[['BUSTED']].values\n",
    "tw.plot(kind='scatter',x='MPHOVER',y='BUSTED')"
   ]
  },
  {
   "cell_type": "code",
   "execution_count": 33,
   "metadata": {},
   "outputs": [
    {
     "data": {
      "text/plain": [
       "[<matplotlib.lines.Line2D at 0x20b398de5c0>]"
      ]
     },
     "execution_count": 33,
     "metadata": {},
     "output_type": "execute_result"
    },
    {
     "data": {
      "image/png": "[encoded data removed]",
      "text/plain": [
       "<matplotlib.figure.Figure at 0x20b39695fd0>"
      ]
     },
     "metadata": {},
     "output_type": "display_data"
    }
   ],
   "source": [
    "lm = LinearRegression()\n",
    "lm.fit(x,y)\n",
    "tw.plot(kind='scatter',x='MPHOVER',y='BUSTED')\n",
    "plt.plot(x,lm.predict(x),'-',color='m')"
   ]
  },
  {
   "cell_type": "markdown",
   "metadata": {},
   "source": [
    "you can imagine that whenever this line is 0.5 or greater, we guess \"got a ticket.\" But really we should use a model that always predicts a value between 0 and 1 -- a probability. \n",
    "To do this we fit a \"logistic\" function, not a line. This is a function which is an S-shape, and turns any number into a number from 0 to 1"
   ]
  },
  {
   "cell_type": "code",
   "execution_count": 34,
   "metadata": {},
   "outputs": [
    {
     "data": {
      "text/plain": [
       "[<matplotlib.lines.Line2D at 0x20b3ea032b0>]"
      ]
     },
     "execution_count": 34,
     "metadata": {},
     "output_type": "execute_result"
    },
    {
     "data": {
      "image/png": "[encoded data removed]",
      "text/plain": [
       "<matplotlib.figure.Figure at 0x20b3edfa1d0>"
      ]
     },
     "metadata": {},
     "output_type": "display_data"
    }
   ],
   "source": [
    "def logistic(x):\n",
    "    return 1 / (1 + np.exp(-x))\n",
    "\n",
    "linear_range = np.linspace(-10,10)\n",
    "plt.plot(linear_range, logistic(linear_range))"
   ]
  },
  {
   "cell_type": "code",
   "execution_count": 35,
   "metadata": {},
   "outputs": [
    {
     "data": {
      "text/plain": [
       "0.5"
      ]
     },
     "execution_count": 35,
     "metadata": {},
     "output_type": "execute_result"
    }
   ],
   "source": [
    "logistic(0)"
   ]
  },
  {
   "cell_type": "code",
   "execution_count": 36,
   "metadata": {},
   "outputs": [
    {
     "name": "stderr",
     "output_type": "stream",
     "text": [
      "C:\\Users\\aditi\\Anaconda3\\lib\\site-packages\\sklearn\\utils\\validation.py:578: DataConversionWarning: A column-vector y was passed when a 1d array was expected. Please change the shape of y to (n_samples, ), for example using ravel().\n",
      "  y = column_or_1d(y, warn=True)\n"
     ]
    },
    {
     "data": {
      "text/plain": [
       "[<matplotlib.lines.Line2D at 0x20b3ec6d2e8>]"
      ]
     },
     "execution_count": 36,
     "metadata": {},
     "output_type": "execute_result"
    },
    {
     "data": {
      "image/png": "[encoded data removed]",
      "text/plain": [
       "<matplotlib.figure.Figure at 0x20b3f28c208>"
      ]
     },
     "metadata": {},
     "output_type": "display_data"
    }
   ],
   "source": [
    "# Run the logistic regression on our data\n",
    "lm = LogisticRegression()\n",
    "lm.fit(x,y)\n",
    "\n",
    "# plot original data\n",
    "tw.plot(kind='scatter',x='MPHOVER',y='BUSTED')\n",
    "\n",
    "# Now plot the prediction of the fitted model\n",
    "m = lm.coef_[0]\n",
    "b = lm.intercept_\n",
    "line_y = m*x+b\n",
    "prediction = logistic(line_y) \n",
    "plt.plot(x, prediction, '-', color='m')"
   ]
  },
  {
   "cell_type": "markdown",
   "metadata": {},
   "source": [
    "\n",
    "We can do the same thing with the predict_proba function (though it returns two columns: one is the probability of FALSE and the other is the probability of TRUE, so we plot only the second column)"
   ]
  },
  {
   "cell_type": "code",
   "execution_count": 37,
   "metadata": {},
   "outputs": [
    {
     "data": {
      "text/plain": [
       "[<matplotlib.lines.Line2D at 0x20b3f3045f8>]"
      ]
     },
     "execution_count": 37,
     "metadata": {},
     "output_type": "execute_result"
    },
    {
     "data": {
      "image/png": "[encoded data removed]",
      "text/plain": [
       "<matplotlib.figure.Figure at 0x20b3f304d30>"
      ]
     },
     "metadata": {},
     "output_type": "display_data"
    }
   ],
   "source": [
    "tw.plot(kind='scatter',x='MPHOVER',y='BUSTED')\n",
    "plt.plot(x, lm.predict_proba(x)[:,1], '-', color='m')"
   ]
  },
  {
   "cell_type": "markdown",
   "metadata": {},
   "source": [
    "## Odds ratios\n",
    "Here's a useful fact: the \"slope\" coefficients of a logistic regression means something when the indepenent variable is binary: it's the odds ratio.\n",
    "Suppose we have a dinner party where each person eats chicken or fish. But oh no! Some people got sick afterwards. To see if it was related to what they ate, we can calculate the odds ratio."
   ]
  },
  {
   "cell_type": "code",
   "execution_count": 40,
   "metadata": {},
   "outputs": [
    {
     "data": {
      "text/plain": [
       "array([[1.17220223]])"
      ]
     },
     "execution_count": 40,
     "metadata": {},
     "output_type": "execute_result"
    }
   ],
   "source": [
    "# To get the odds ratio, we use the following formula:\n",
    "np.exp(lm.coef_)\n",
    "\n"
   ]
  },
  {
   "cell_type": "markdown",
   "metadata": {},
   "source": [
    "## Controlling for other variables\n",
    "We can feed as many independent variables as we like into linear regression. With two variables, instead of fitting a plane to the data we are fitting a curved surface. \n",
    "But here's the cool thing: just like linear regression each coefficient tells us how much that independent variable effects the probability of getting a ticket if all other variables stay the same.\n",
    "In [ ]:\n",
    "\n"
   ]
  },
  {
   "cell_type": "code",
   "execution_count": 42,
   "metadata": {},
   "outputs": [],
   "source": [
    "\n",
    "# Code these variables a binary\n",
    "tw.SEX = tw.SEX.replace({'M':0,'F':1, 'U':0})\n",
    "tw.MINORITY = tw.MINORITY.replace({'W':0,'M':1})\n",
    "tw.INTOWN = tw.INTOWN.replace({'N':0,'Y':1, 'U':0})\n",
    "\n",
    "# remove unknown ages\n",
    "tw = tw[~tw.AGE.isnull()].reset_index()"
   ]
  },
  {
   "cell_type": "code",
   "execution_count": 43,
   "metadata": {},
   "outputs": [
    {
     "name": "stderr",
     "output_type": "stream",
     "text": [
      "C:\\Users\\aditi\\Anaconda3\\lib\\site-packages\\sklearn\\utils\\validation.py:578: DataConversionWarning: A column-vector y was passed when a 1d array was expected. Please change the shape of y to (n_samples, ), for example using ravel().\n",
      "  y = column_or_1d(y, warn=True)\n"
     ]
    },
    {
     "data": {
      "text/plain": [
       "array([[1.16912683, 1.46125139, 0.72036031, 0.98509825, 0.50819743]])"
      ]
     },
     "execution_count": 43,
     "metadata": {},
     "output_type": "execute_result"
    }
   ],
   "source": [
    "x = tw[['MPHOVER','MINORITY','SEX', 'AGE', 'INTOWN']].values\n",
    "y = tw[['BUSTED']].values\n",
    "lm = LogisticRegression() \n",
    "lm.fit(x,y)\n",
    "       \n",
    "# print out the odds ratios for each variable\n",
    "np.exp(lm.coef_)"
   ]
  },
  {
   "cell_type": "code",
   "execution_count": null,
   "metadata": {},
   "outputs": [],
   "source": []
  }
 ],
 "metadata": {
  "kernelspec": {
   "display_name": "Python 3",
   "language": "python",
   "name": "python3"
  },
  "language_info": {
   "codemirror_mode": {
    "name": "ipython",
    "version": 3
   },
   "file_extension": ".py",
   "mimetype": "text/x-python",
   "name": "python",
   "nbconvert_exporter": "python",
   "pygments_lexer": "ipython3",
   "version": "3.6.5"
  }
 },
 "nbformat": 4,
 "nbformat_minor": 2
}
